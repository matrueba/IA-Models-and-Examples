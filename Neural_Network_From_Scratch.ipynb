{
 "cells": [
  {
   "cell_type": "markdown",
   "metadata": {},
   "source": [
    "# Multilayer perceptron for regresion with backpropagation"
   ]
  },
  {
   "cell_type": "code",
   "execution_count": 1,
   "metadata": {},
   "outputs": [],
   "source": [
    "import numpy as np\n",
    "from sklearn.base import BaseEstimator, RegressorMixin\n",
    "from sklearn.metrics import r2_score\n",
    "import matplotlib.pyplot as plt\n",
    "\n",
    "\n",
    "def relu(X):    \n",
    "    return np.maximum(0, X)\n",
    "\n",
    "\n",
    "def drelu(X):\n",
    "    return 1 * (X > 0)\n",
    "\n",
    "\n",
    "class CustomMLPRegressor(BaseEstimator, RegressorMixin):\n",
    "\n",
    "    def __init__(self, hidden_layer_sizes=(10, ), max_iter=1000, eta=0.01,\n",
    "                 f=relu, df=drelu):\n",
    "        self.hidden_layer_sizes = hidden_layer_sizes\n",
    "        self.max_iter = max_iter\n",
    "        self.eta = eta\n",
    "        self.f = f\n",
    "        self.df = df\n",
    "\n",
    "    \n",
    "    def fit(self, X, y):\n",
    "        if y.ndim == 1:\n",
    "            y = np.reshape(y, (y.shape[0],1)) #Convierte a vector\n",
    "            \n",
    "        #Initialize parameters\n",
    "        self.W1 = np.random.randn(self.hidden_layer_sizes[0], X.shape[1])*0.01\n",
    "        self.b1 = np.zeros((self.hidden_layer_sizes[0],1))\n",
    "        self.W2 = np.random.randn(y.shape[1], self.hidden_layer_sizes[0])*0.01  \n",
    "        self.b2 = np.zeros((y.shape[1],1)) \n",
    "        N = y.shape[0]   \n",
    "        \n",
    "        self.errors = []\n",
    "        \n",
    "        for i in range(0, self.max_iter):\n",
    "            \n",
    "            #Forward propagation\n",
    "            A1 = self.f((X @ self.W1.T).T + self.b1)\n",
    "            A2 = self.f((A1.T @ self.W2.T).T + self.b2)\n",
    "          \n",
    "            #Cost operation\n",
    "            error = (1/2*N)*np.sum(np.square(A2.T - y))\n",
    "            self.errors.append(error)\n",
    "          \n",
    "            #Backpropagation\n",
    "            dZ2= A2 - y.T\n",
    "            dW2 = (1/N)*(dZ2 @ A1.T)\n",
    "            db2 = (1/N)*np.sum(dZ2, axis=1, keepdims=True)\n",
    "            dZ1 = (self.W2.T @ dZ2)*self.df(A1)\n",
    "            dW1 = (1/N)*(dZ1 @ X)\n",
    "            db1 = (1/N)*np.sum(dZ1, axis=1, keepdims=True)\n",
    "            \n",
    "            #parameters update\n",
    "            self.W1 = self.W1 - self.eta*dW1\n",
    "            self.b1 = self.b1 - self.eta*db1\n",
    "            self.W2 = self.W2 - self.eta*dW2\n",
    "            self.b2 = self.b2 - self.eta*db2\n",
    "        self.errors = np.squeeze(self.errors)\n",
    "        plt.plot(self.errors)\n",
    "        plt.ylabel('Error')\n",
    "        plt.xlabel('iterations')\n",
    "        plt.title(\"Learning rate =\" + str(self.eta))\n",
    "        plt.show()\n",
    "               \n",
    "        return self\n",
    "\n",
    "    def predict(self, X):\n",
    "        A1 = self.f((X @ self.W1.T).T + self.b1)\n",
    "        A2 = self.f((A1.T @ self.W2.T).T + self.b2)\n",
    "        return A2.T\n",
    "        \n",
    "\n",
    "    def score(self, X, y):\n",
    "        preds = self.predict(X)\n",
    "        return r2_score(y, preds)"
   ]
  },
  {
   "cell_type": "markdown",
   "metadata": {},
   "source": [
    "Comparation of Neural Network implemented with numpy vs Sklearn Library Model Neural Network"
   ]
  },
  {
   "cell_type": "code",
   "execution_count": 2,
   "metadata": {},
   "outputs": [
    {
     "data": {
      "image/png": "[encoded data removed]",
      "text/plain": [
       "<Figure size 432x288 with 1 Axes>"
      ]
     },
     "metadata": {
      "needs_background": "light"
     },
     "output_type": "display_data"
    },
    {
     "name": "stderr",
     "output_type": "stream",
     "text": [
      "C:\\Users\\ma_tr\\Anaconda3\\lib\\site-packages\\sklearn\\neural_network\\multilayer_perceptron.py:566: ConvergenceWarning: Stochastic Optimizer: Maximum iterations (100) reached and the optimization hasn't converged yet.\n",
      "  % self.max_iter, ConvergenceWarning)\n"
     ]
    },
    {
     "name": "stdout",
     "output_type": "stream",
     "text": [
      "load_boston:\n",
      "\tR2 CMLPR: 0.7909557343038598\n",
      "\tMLP R2: 0.8240093474408927\n"
     ]
    },
    {
     "data": {
      "image/png": "[encoded data removed]",
      "text/plain": [
       "<Figure size 432x288 with 1 Axes>"
      ]
     },
     "metadata": {
      "needs_background": "light"
     },
     "output_type": "display_data"
    },
    {
     "name": "stdout",
     "output_type": "stream",
     "text": [
      "load_diabetes:\n",
      "\tR2 CMLPR: 0.19233818791283175\n",
      "\tMLP R2: 0.2827579326424212\n"
     ]
    },
    {
     "name": "stderr",
     "output_type": "stream",
     "text": [
      "C:\\Users\\ma_tr\\Anaconda3\\lib\\site-packages\\sklearn\\neural_network\\multilayer_perceptron.py:566: ConvergenceWarning: Stochastic Optimizer: Maximum iterations (100) reached and the optimization hasn't converged yet.\n",
      "  % self.max_iter, ConvergenceWarning)\n"
     ]
    }
   ],
   "source": [
    "from sklearn.datasets import load_boston, load_diabetes\n",
    "from sklearn.neural_network import MLPRegressor\n",
    "from sklearn.model_selection import train_test_split\n",
    "from sklearn.pipeline import Pipeline\n",
    "from sklearn.preprocessing import StandardScaler\n",
    "\n",
    "for loader in (load_boston, load_diabetes):\n",
    "    X, y = loader(return_X_y=True)\n",
    "    X_train, X_test, y_train, y_test = train_test_split(X, y, random_state=0)\n",
    "\n",
    "    hidden_layer_sizes = (10,)\n",
    "    cmlp = Pipeline([('stds', StandardScaler()), ('cmlp', CustomMLPRegressor(hidden_layer_sizes=hidden_layer_sizes))])\n",
    "    mlp = Pipeline([('stds', StandardScaler()), ('mlp', MLPRegressor(hidden_layer_sizes=hidden_layer_sizes, alpha=0.0, batch_size=2, learning_rate_init=0.01, max_iter=100, shuffle=False, momentum=0.0))])\n",
    "\n",
    "    cmlp.fit(X_train, y_train)\n",
    "    mlp.fit(X_train, y_train)\n",
    "\n",
    "    cmlp_score = cmlp.score(X_test, y_test)\n",
    "    mlp_score = mlp.score(X_test, y_test)\n",
    "    print(loader.__name__ + ':\\n\\tR2 CMLPR: ' + str(cmlp_score) + '\\n\\tMLP R2: ' + str(mlp_score))"
   ]
  }
 ],
 "metadata": {
  "kernelspec": {
   "display_name": "Python 3",
   "language": "python",
   "name": "python3"
  },
  "language_info": {
   "codemirror_mode": {
    "name": "ipython",
    "version": 3
   },
   "file_extension": ".py",
   "mimetype": "text/x-python",
   "name": "python",
   "nbconvert_exporter": "python",
   "pygments_lexer": "ipython3",
   "version": "3.7.4"
  }
 },
 "nbformat": 4,
 "nbformat_minor": 2
}
